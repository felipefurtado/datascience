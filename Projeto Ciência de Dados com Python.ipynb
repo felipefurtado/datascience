{
 "cells": [
  {
   "cell_type": "markdown",
   "id": "7f697085",
   "metadata": {},
   "source": [
    "# Projeto Ciência de Dados com Python\n",
    "Abordagem de estudo de caso para a criação de projetos de ciência de dados usando Python, pandas e scikit-learn.\n",
    "Stephen Klosterman"
   ]
  },
  {
   "cell_type": "code",
   "execution_count": 5,
   "id": "ef83576f",
   "metadata": {},
   "outputs": [],
   "source": [
    "# importar a biblioteca pandas no env\n",
    "import pandas as pd"
   ]
  },
  {
   "cell_type": "code",
   "execution_count": 6,
   "id": "3d1339c3",
   "metadata": {},
   "outputs": [
    {
     "data": {
      "text/plain": [
       "<function pandas.io.excel._base.read_excel(io, sheet_name: 'str | int | list[IntStrT] | None' = 0, header: 'int | Sequence[int] | None' = 0, names=None, index_col: 'int | Sequence[int] | None' = None, usecols=None, squeeze: 'bool | None' = None, dtype: 'DtypeArg | None' = None, engine: \"Literal['xlrd', 'openpyxl', 'odf', 'pyxlsb'] | None\" = None, converters=None, true_values: 'Iterable[Hashable] | None' = None, false_values: 'Iterable[Hashable] | None' = None, skiprows: 'Sequence[int] | int | Callable[[int], object] | None' = None, nrows: 'int | None' = None, na_values=None, keep_default_na: 'bool' = True, na_filter: 'bool' = True, verbose: 'bool' = False, parse_dates=False, date_parser=None, thousands: 'str | None' = None, decimal: 'str' = '.', comment: 'str | None' = None, skipfooter: 'int' = 0, convert_float: 'bool | None' = None, mangle_dupe_cols: 'bool' = True, storage_options: 'StorageOptions' = None) -> 'DataFrame | dict[IntStrT, DataFrame]'>"
      ]
     },
     "execution_count": 6,
     "metadata": {},
     "output_type": "execute_result"
    }
   ],
   "source": [
    "# utilizar o pandas para carregar o arquivo de dados (.xls)\n",
    "pd.read_excel"
   ]
  },
  {
   "cell_type": "code",
   "execution_count": 4,
   "id": "7580fe79",
   "metadata": {},
   "outputs": [
    {
     "ename": "SyntaxError",
     "evalue": "invalid syntax (585056676.py, line 2)",
     "output_type": "error",
     "traceback": [
      "\u001b[1;36m  Input \u001b[1;32mIn [4]\u001b[1;36m\u001b[0m\n\u001b[1;33m    pip install xlrd\u001b[0m\n\u001b[1;37m        ^\u001b[0m\n\u001b[1;31mSyntaxError\u001b[0m\u001b[1;31m:\u001b[0m invalid syntax\n"
     ]
    }
   ],
   "source": [
    "# supports old-style Excel files(.xls)\n",
    "pip install xlrd\n"
   ]
  },
  {
   "cell_type": "code",
   "execution_count": 10,
   "id": "f8223ada",
   "metadata": {},
   "outputs": [
    {
     "name": "stdout",
     "output_type": "stream",
     "text": [
      "Collecting openpyxl\n",
      "  Using cached openpyxl-3.0.9-py2.py3-none-any.whl (242 kB)\n",
      "Collecting et-xmlfile\n",
      "  Using cached et_xmlfile-1.1.0-py3-none-any.whl (4.7 kB)\n",
      "Installing collected packages: et-xmlfile, openpyxl\n",
      "Successfully installed et-xmlfile-1.1.0 openpyxl-3.0.9\n",
      "Note: you may need to restart the kernel to use updated packages.\n"
     ]
    }
   ],
   "source": [
    "# supports newer Excel file formats\n",
    "pip install openpyxl"
   ]
  },
  {
   "cell_type": "code",
   "execution_count": 7,
   "id": "d9493438",
   "metadata": {},
   "outputs": [],
   "source": [
    "# importar o dataset que está no formato do Excel, como um DataFrame\n",
    "df = pd.read_excel(r'C:\\Users\\felip\\Desktop\\Workflow\\Ciência de Dados\\Projetos de Ciência de Dados com Python\\default_of_credit_card_clients__courseware_version_1_21_19.xls')\n"
   ]
  },
  {
   "cell_type": "code",
   "execution_count": 8,
   "id": "a7658ef0",
   "metadata": {},
   "outputs": [
    {
     "name": "stdout",
     "output_type": "stream",
     "text": [
      "                  ID  LIMIT_BAL  SEX  EDUCATION  MARRIAGE  AGE PAY_1  PAY_2  \\\n",
      "0      798fc410-45c1      20000    2          2         1   24     2      2   \n",
      "1      8a8c8f3b-8eb4     120000    2          2         2   26    -1      2   \n",
      "2      85698822-43f5      90000    2          2         2   34     0      0   \n",
      "3      0737c11b-be42      50000    2          2         1   37     0      0   \n",
      "4      3b7f77cc-dbc0      50000    1          2         1   57    -1      0   \n",
      "...              ...        ...  ...        ...       ...  ...   ...    ...   \n",
      "29995  ecff42d0-bdc6     220000    1          3         1   39     0      0   \n",
      "29996  99d1fa0e-222b     150000    1          3         2   43    -1     -1   \n",
      "29997  95cdd3e7-4f24      30000    1          2         2   37     4      3   \n",
      "29998  00d03f02-04cd      80000    1          3         1   41     1     -1   \n",
      "29999  15d69f9f-5ad3      50000    1          2         1   46     0      0   \n",
      "\n",
      "       PAY_3  PAY_4  ...  BILL_AMT4  BILL_AMT5  BILL_AMT6  PAY_AMT1  PAY_AMT2  \\\n",
      "0         -1     -1  ...          0          0          0         0       689   \n",
      "1          0      0  ...       3272       3455       3261         0      1000   \n",
      "2          0      0  ...      14331      14948      15549      1518      1500   \n",
      "3          0      0  ...      28314      28959      29547      2000      2019   \n",
      "4         -1      0  ...      20940      19146      19131      2000     36681   \n",
      "...      ...    ...  ...        ...        ...        ...       ...       ...   \n",
      "29995      0      0  ...      88004      31237      15980      8500     20000   \n",
      "29996     -1     -1  ...       8979       5190          0      1837      3526   \n",
      "29997      2     -1  ...      20878      20582      19357         0         0   \n",
      "29998      0      0  ...      52774      11855      48944     85900      3409   \n",
      "29999      0      0  ...      36535      32428      15313      2078      1800   \n",
      "\n",
      "       PAY_AMT3  PAY_AMT4  PAY_AMT5  PAY_AMT6  default payment next month  \n",
      "0             0         0         0         0                           1  \n",
      "1          1000      1000         0      2000                           1  \n",
      "2          1000      1000      1000      5000                           0  \n",
      "3          1200      1100      1069      1000                           0  \n",
      "4         10000      9000       689       679                           0  \n",
      "...         ...       ...       ...       ...                         ...  \n",
      "29995      5003      3047      5000      1000                           0  \n",
      "29996      8998       129         0         0                           0  \n",
      "29997     22000      4200      2000      3100                           1  \n",
      "29998      1178      1926     52964      1804                           1  \n",
      "29999      1430      1000      1000      1000                           1  \n",
      "\n",
      "[30000 rows x 25 columns]\n"
     ]
    }
   ],
   "source": [
    "# projeta o DataFrame\n",
    "print(df)"
   ]
  },
  {
   "cell_type": "code",
   "execution_count": 9,
   "id": "187201a6",
   "metadata": {},
   "outputs": [
    {
     "data": {
      "text/plain": [
       "(30000, 25)"
      ]
     },
     "execution_count": 9,
     "metadata": {},
     "output_type": "execute_result"
    }
   ],
   "source": [
    "# verifiar se o número de linhas e colunas coincidem com o arquivo do Excel\n",
    "df.shape"
   ]
  },
  {
   "cell_type": "code",
   "execution_count": 10,
   "id": "a04b598a",
   "metadata": {},
   "outputs": [
    {
     "name": "stdout",
     "output_type": "stream",
     "text": [
      "<class 'pandas.core.frame.DataFrame'>\n",
      "RangeIndex: 30000 entries, 0 to 29999\n",
      "Data columns (total 25 columns):\n",
      " #   Column                      Non-Null Count  Dtype \n",
      "---  ------                      --------------  ----- \n",
      " 0   ID                          30000 non-null  object\n",
      " 1   LIMIT_BAL                   30000 non-null  int64 \n",
      " 2   SEX                         30000 non-null  int64 \n",
      " 3   EDUCATION                   30000 non-null  int64 \n",
      " 4   MARRIAGE                    30000 non-null  int64 \n",
      " 5   AGE                         30000 non-null  int64 \n",
      " 6   PAY_1                       30000 non-null  object\n",
      " 7   PAY_2                       30000 non-null  int64 \n",
      " 8   PAY_3                       30000 non-null  int64 \n",
      " 9   PAY_4                       30000 non-null  int64 \n",
      " 10  PAY_5                       30000 non-null  int64 \n",
      " 11  PAY_6                       30000 non-null  int64 \n",
      " 12  BILL_AMT1                   30000 non-null  int64 \n",
      " 13  BILL_AMT2                   30000 non-null  int64 \n",
      " 14  BILL_AMT3                   30000 non-null  int64 \n",
      " 15  BILL_AMT4                   30000 non-null  int64 \n",
      " 16  BILL_AMT5                   30000 non-null  int64 \n",
      " 17  BILL_AMT6                   30000 non-null  int64 \n",
      " 18  PAY_AMT1                    30000 non-null  int64 \n",
      " 19  PAY_AMT2                    30000 non-null  int64 \n",
      " 20  PAY_AMT3                    30000 non-null  int64 \n",
      " 21  PAY_AMT4                    30000 non-null  int64 \n",
      " 22  PAY_AMT5                    30000 non-null  int64 \n",
      " 23  PAY_AMT6                    30000 non-null  int64 \n",
      " 24  default payment next month  30000 non-null  int64 \n",
      "dtypes: int64(23), object(2)\n",
      "memory usage: 5.7+ MB\n"
     ]
    }
   ],
   "source": [
    "# fornece a informação sobre todas as colunas\n",
    "df.info()"
   ]
  },
  {
   "cell_type": "code",
   "execution_count": 11,
   "id": "05a7c5fd",
   "metadata": {},
   "outputs": [
    {
     "data": {
      "text/html": [
       "<div>\n",
       "<style scoped>\n",
       "    .dataframe tbody tr th:only-of-type {\n",
       "        vertical-align: middle;\n",
       "    }\n",
       "\n",
       "    .dataframe tbody tr th {\n",
       "        vertical-align: top;\n",
       "    }\n",
       "\n",
       "    .dataframe thead th {\n",
       "        text-align: right;\n",
       "    }\n",
       "</style>\n",
       "<table border=\"1\" class=\"dataframe\">\n",
       "  <thead>\n",
       "    <tr style=\"text-align: right;\">\n",
       "      <th></th>\n",
       "      <th>ID</th>\n",
       "      <th>LIMIT_BAL</th>\n",
       "      <th>SEX</th>\n",
       "      <th>EDUCATION</th>\n",
       "      <th>MARRIAGE</th>\n",
       "      <th>AGE</th>\n",
       "      <th>PAY_1</th>\n",
       "      <th>PAY_2</th>\n",
       "      <th>PAY_3</th>\n",
       "      <th>PAY_4</th>\n",
       "      <th>...</th>\n",
       "      <th>BILL_AMT4</th>\n",
       "      <th>BILL_AMT5</th>\n",
       "      <th>BILL_AMT6</th>\n",
       "      <th>PAY_AMT1</th>\n",
       "      <th>PAY_AMT2</th>\n",
       "      <th>PAY_AMT3</th>\n",
       "      <th>PAY_AMT4</th>\n",
       "      <th>PAY_AMT5</th>\n",
       "      <th>PAY_AMT6</th>\n",
       "      <th>default payment next month</th>\n",
       "    </tr>\n",
       "  </thead>\n",
       "  <tbody>\n",
       "    <tr>\n",
       "      <th>0</th>\n",
       "      <td>798fc410-45c1</td>\n",
       "      <td>20000</td>\n",
       "      <td>2</td>\n",
       "      <td>2</td>\n",
       "      <td>1</td>\n",
       "      <td>24</td>\n",
       "      <td>2</td>\n",
       "      <td>2</td>\n",
       "      <td>-1</td>\n",
       "      <td>-1</td>\n",
       "      <td>...</td>\n",
       "      <td>0</td>\n",
       "      <td>0</td>\n",
       "      <td>0</td>\n",
       "      <td>0</td>\n",
       "      <td>689</td>\n",
       "      <td>0</td>\n",
       "      <td>0</td>\n",
       "      <td>0</td>\n",
       "      <td>0</td>\n",
       "      <td>1</td>\n",
       "    </tr>\n",
       "    <tr>\n",
       "      <th>1</th>\n",
       "      <td>8a8c8f3b-8eb4</td>\n",
       "      <td>120000</td>\n",
       "      <td>2</td>\n",
       "      <td>2</td>\n",
       "      <td>2</td>\n",
       "      <td>26</td>\n",
       "      <td>-1</td>\n",
       "      <td>2</td>\n",
       "      <td>0</td>\n",
       "      <td>0</td>\n",
       "      <td>...</td>\n",
       "      <td>3272</td>\n",
       "      <td>3455</td>\n",
       "      <td>3261</td>\n",
       "      <td>0</td>\n",
       "      <td>1000</td>\n",
       "      <td>1000</td>\n",
       "      <td>1000</td>\n",
       "      <td>0</td>\n",
       "      <td>2000</td>\n",
       "      <td>1</td>\n",
       "    </tr>\n",
       "    <tr>\n",
       "      <th>2</th>\n",
       "      <td>85698822-43f5</td>\n",
       "      <td>90000</td>\n",
       "      <td>2</td>\n",
       "      <td>2</td>\n",
       "      <td>2</td>\n",
       "      <td>34</td>\n",
       "      <td>0</td>\n",
       "      <td>0</td>\n",
       "      <td>0</td>\n",
       "      <td>0</td>\n",
       "      <td>...</td>\n",
       "      <td>14331</td>\n",
       "      <td>14948</td>\n",
       "      <td>15549</td>\n",
       "      <td>1518</td>\n",
       "      <td>1500</td>\n",
       "      <td>1000</td>\n",
       "      <td>1000</td>\n",
       "      <td>1000</td>\n",
       "      <td>5000</td>\n",
       "      <td>0</td>\n",
       "    </tr>\n",
       "    <tr>\n",
       "      <th>3</th>\n",
       "      <td>0737c11b-be42</td>\n",
       "      <td>50000</td>\n",
       "      <td>2</td>\n",
       "      <td>2</td>\n",
       "      <td>1</td>\n",
       "      <td>37</td>\n",
       "      <td>0</td>\n",
       "      <td>0</td>\n",
       "      <td>0</td>\n",
       "      <td>0</td>\n",
       "      <td>...</td>\n",
       "      <td>28314</td>\n",
       "      <td>28959</td>\n",
       "      <td>29547</td>\n",
       "      <td>2000</td>\n",
       "      <td>2019</td>\n",
       "      <td>1200</td>\n",
       "      <td>1100</td>\n",
       "      <td>1069</td>\n",
       "      <td>1000</td>\n",
       "      <td>0</td>\n",
       "    </tr>\n",
       "    <tr>\n",
       "      <th>4</th>\n",
       "      <td>3b7f77cc-dbc0</td>\n",
       "      <td>50000</td>\n",
       "      <td>1</td>\n",
       "      <td>2</td>\n",
       "      <td>1</td>\n",
       "      <td>57</td>\n",
       "      <td>-1</td>\n",
       "      <td>0</td>\n",
       "      <td>-1</td>\n",
       "      <td>0</td>\n",
       "      <td>...</td>\n",
       "      <td>20940</td>\n",
       "      <td>19146</td>\n",
       "      <td>19131</td>\n",
       "      <td>2000</td>\n",
       "      <td>36681</td>\n",
       "      <td>10000</td>\n",
       "      <td>9000</td>\n",
       "      <td>689</td>\n",
       "      <td>679</td>\n",
       "      <td>0</td>\n",
       "    </tr>\n",
       "  </tbody>\n",
       "</table>\n",
       "<p>5 rows × 25 columns</p>\n",
       "</div>"
      ],
      "text/plain": [
       "              ID  LIMIT_BAL  SEX  EDUCATION  MARRIAGE  AGE PAY_1  PAY_2  \\\n",
       "0  798fc410-45c1      20000    2          2         1   24     2      2   \n",
       "1  8a8c8f3b-8eb4     120000    2          2         2   26    -1      2   \n",
       "2  85698822-43f5      90000    2          2         2   34     0      0   \n",
       "3  0737c11b-be42      50000    2          2         1   37     0      0   \n",
       "4  3b7f77cc-dbc0      50000    1          2         1   57    -1      0   \n",
       "\n",
       "   PAY_3  PAY_4  ...  BILL_AMT4  BILL_AMT5  BILL_AMT6  PAY_AMT1  PAY_AMT2  \\\n",
       "0     -1     -1  ...          0          0          0         0       689   \n",
       "1      0      0  ...       3272       3455       3261         0      1000   \n",
       "2      0      0  ...      14331      14948      15549      1518      1500   \n",
       "3      0      0  ...      28314      28959      29547      2000      2019   \n",
       "4     -1      0  ...      20940      19146      19131      2000     36681   \n",
       "\n",
       "   PAY_AMT3  PAY_AMT4  PAY_AMT5  PAY_AMT6  default payment next month  \n",
       "0         0         0         0         0                           1  \n",
       "1      1000      1000         0      2000                           1  \n",
       "2      1000      1000      1000      5000                           0  \n",
       "3      1200      1100      1069      1000                           0  \n",
       "4     10000      9000       689       679                           0  \n",
       "\n",
       "[5 rows x 25 columns]"
      ]
     },
     "execution_count": 11,
     "metadata": {},
     "output_type": "execute_result"
    }
   ],
   "source": [
    "# fornece as primeiras linhas do DataFrame\n",
    "df.head()"
   ]
  },
  {
   "cell_type": "code",
   "execution_count": 12,
   "id": "23807af2",
   "metadata": {},
   "outputs": [
    {
     "data": {
      "text/html": [
       "<div>\n",
       "<style scoped>\n",
       "    .dataframe tbody tr th:only-of-type {\n",
       "        vertical-align: middle;\n",
       "    }\n",
       "\n",
       "    .dataframe tbody tr th {\n",
       "        vertical-align: top;\n",
       "    }\n",
       "\n",
       "    .dataframe thead th {\n",
       "        text-align: right;\n",
       "    }\n",
       "</style>\n",
       "<table border=\"1\" class=\"dataframe\">\n",
       "  <thead>\n",
       "    <tr style=\"text-align: right;\">\n",
       "      <th></th>\n",
       "      <th>ID</th>\n",
       "      <th>LIMIT_BAL</th>\n",
       "      <th>SEX</th>\n",
       "      <th>EDUCATION</th>\n",
       "      <th>MARRIAGE</th>\n",
       "      <th>AGE</th>\n",
       "      <th>PAY_1</th>\n",
       "      <th>PAY_2</th>\n",
       "      <th>PAY_3</th>\n",
       "      <th>PAY_4</th>\n",
       "      <th>...</th>\n",
       "      <th>BILL_AMT4</th>\n",
       "      <th>BILL_AMT5</th>\n",
       "      <th>BILL_AMT6</th>\n",
       "      <th>PAY_AMT1</th>\n",
       "      <th>PAY_AMT2</th>\n",
       "      <th>PAY_AMT3</th>\n",
       "      <th>PAY_AMT4</th>\n",
       "      <th>PAY_AMT5</th>\n",
       "      <th>PAY_AMT6</th>\n",
       "      <th>default payment next month</th>\n",
       "    </tr>\n",
       "  </thead>\n",
       "  <tbody>\n",
       "    <tr>\n",
       "      <th>0</th>\n",
       "      <td>798fc410-45c1</td>\n",
       "      <td>20000</td>\n",
       "      <td>2</td>\n",
       "      <td>2</td>\n",
       "      <td>1</td>\n",
       "      <td>24</td>\n",
       "      <td>2</td>\n",
       "      <td>2</td>\n",
       "      <td>-1</td>\n",
       "      <td>-1</td>\n",
       "      <td>...</td>\n",
       "      <td>0</td>\n",
       "      <td>0</td>\n",
       "      <td>0</td>\n",
       "      <td>0</td>\n",
       "      <td>689</td>\n",
       "      <td>0</td>\n",
       "      <td>0</td>\n",
       "      <td>0</td>\n",
       "      <td>0</td>\n",
       "      <td>1</td>\n",
       "    </tr>\n",
       "    <tr>\n",
       "      <th>1</th>\n",
       "      <td>8a8c8f3b-8eb4</td>\n",
       "      <td>120000</td>\n",
       "      <td>2</td>\n",
       "      <td>2</td>\n",
       "      <td>2</td>\n",
       "      <td>26</td>\n",
       "      <td>-1</td>\n",
       "      <td>2</td>\n",
       "      <td>0</td>\n",
       "      <td>0</td>\n",
       "      <td>...</td>\n",
       "      <td>3272</td>\n",
       "      <td>3455</td>\n",
       "      <td>3261</td>\n",
       "      <td>0</td>\n",
       "      <td>1000</td>\n",
       "      <td>1000</td>\n",
       "      <td>1000</td>\n",
       "      <td>0</td>\n",
       "      <td>2000</td>\n",
       "      <td>1</td>\n",
       "    </tr>\n",
       "    <tr>\n",
       "      <th>2</th>\n",
       "      <td>85698822-43f5</td>\n",
       "      <td>90000</td>\n",
       "      <td>2</td>\n",
       "      <td>2</td>\n",
       "      <td>2</td>\n",
       "      <td>34</td>\n",
       "      <td>0</td>\n",
       "      <td>0</td>\n",
       "      <td>0</td>\n",
       "      <td>0</td>\n",
       "      <td>...</td>\n",
       "      <td>14331</td>\n",
       "      <td>14948</td>\n",
       "      <td>15549</td>\n",
       "      <td>1518</td>\n",
       "      <td>1500</td>\n",
       "      <td>1000</td>\n",
       "      <td>1000</td>\n",
       "      <td>1000</td>\n",
       "      <td>5000</td>\n",
       "      <td>0</td>\n",
       "    </tr>\n",
       "    <tr>\n",
       "      <th>3</th>\n",
       "      <td>0737c11b-be42</td>\n",
       "      <td>50000</td>\n",
       "      <td>2</td>\n",
       "      <td>2</td>\n",
       "      <td>1</td>\n",
       "      <td>37</td>\n",
       "      <td>0</td>\n",
       "      <td>0</td>\n",
       "      <td>0</td>\n",
       "      <td>0</td>\n",
       "      <td>...</td>\n",
       "      <td>28314</td>\n",
       "      <td>28959</td>\n",
       "      <td>29547</td>\n",
       "      <td>2000</td>\n",
       "      <td>2019</td>\n",
       "      <td>1200</td>\n",
       "      <td>1100</td>\n",
       "      <td>1069</td>\n",
       "      <td>1000</td>\n",
       "      <td>0</td>\n",
       "    </tr>\n",
       "    <tr>\n",
       "      <th>4</th>\n",
       "      <td>3b7f77cc-dbc0</td>\n",
       "      <td>50000</td>\n",
       "      <td>1</td>\n",
       "      <td>2</td>\n",
       "      <td>1</td>\n",
       "      <td>57</td>\n",
       "      <td>-1</td>\n",
       "      <td>0</td>\n",
       "      <td>-1</td>\n",
       "      <td>0</td>\n",
       "      <td>...</td>\n",
       "      <td>20940</td>\n",
       "      <td>19146</td>\n",
       "      <td>19131</td>\n",
       "      <td>2000</td>\n",
       "      <td>36681</td>\n",
       "      <td>10000</td>\n",
       "      <td>9000</td>\n",
       "      <td>689</td>\n",
       "      <td>679</td>\n",
       "      <td>0</td>\n",
       "    </tr>\n",
       "    <tr>\n",
       "      <th>5</th>\n",
       "      <td>ceae2946-47e4</td>\n",
       "      <td>50000</td>\n",
       "      <td>1</td>\n",
       "      <td>1</td>\n",
       "      <td>2</td>\n",
       "      <td>37</td>\n",
       "      <td>0</td>\n",
       "      <td>0</td>\n",
       "      <td>0</td>\n",
       "      <td>0</td>\n",
       "      <td>...</td>\n",
       "      <td>19394</td>\n",
       "      <td>19619</td>\n",
       "      <td>20024</td>\n",
       "      <td>2500</td>\n",
       "      <td>1815</td>\n",
       "      <td>657</td>\n",
       "      <td>1000</td>\n",
       "      <td>1000</td>\n",
       "      <td>800</td>\n",
       "      <td>0</td>\n",
       "    </tr>\n",
       "    <tr>\n",
       "      <th>6</th>\n",
       "      <td>d3b8ce26-9c89</td>\n",
       "      <td>500000</td>\n",
       "      <td>1</td>\n",
       "      <td>1</td>\n",
       "      <td>2</td>\n",
       "      <td>29</td>\n",
       "      <td>0</td>\n",
       "      <td>0</td>\n",
       "      <td>0</td>\n",
       "      <td>0</td>\n",
       "      <td>...</td>\n",
       "      <td>542653</td>\n",
       "      <td>483003</td>\n",
       "      <td>473944</td>\n",
       "      <td>55000</td>\n",
       "      <td>40000</td>\n",
       "      <td>38000</td>\n",
       "      <td>20239</td>\n",
       "      <td>13750</td>\n",
       "      <td>13770</td>\n",
       "      <td>0</td>\n",
       "    </tr>\n",
       "    <tr>\n",
       "      <th>7</th>\n",
       "      <td>d6e1911b-54d0</td>\n",
       "      <td>100000</td>\n",
       "      <td>2</td>\n",
       "      <td>2</td>\n",
       "      <td>2</td>\n",
       "      <td>23</td>\n",
       "      <td>0</td>\n",
       "      <td>-1</td>\n",
       "      <td>-1</td>\n",
       "      <td>0</td>\n",
       "      <td>...</td>\n",
       "      <td>221</td>\n",
       "      <td>-159</td>\n",
       "      <td>567</td>\n",
       "      <td>380</td>\n",
       "      <td>601</td>\n",
       "      <td>0</td>\n",
       "      <td>581</td>\n",
       "      <td>1687</td>\n",
       "      <td>1542</td>\n",
       "      <td>0</td>\n",
       "    </tr>\n",
       "    <tr>\n",
       "      <th>8</th>\n",
       "      <td>8421d3b3-2b54</td>\n",
       "      <td>140000</td>\n",
       "      <td>2</td>\n",
       "      <td>3</td>\n",
       "      <td>1</td>\n",
       "      <td>28</td>\n",
       "      <td>0</td>\n",
       "      <td>0</td>\n",
       "      <td>2</td>\n",
       "      <td>0</td>\n",
       "      <td>...</td>\n",
       "      <td>12211</td>\n",
       "      <td>11793</td>\n",
       "      <td>3719</td>\n",
       "      <td>3329</td>\n",
       "      <td>0</td>\n",
       "      <td>432</td>\n",
       "      <td>1000</td>\n",
       "      <td>1000</td>\n",
       "      <td>1000</td>\n",
       "      <td>0</td>\n",
       "    </tr>\n",
       "    <tr>\n",
       "      <th>9</th>\n",
       "      <td>62a2fd79-cd90</td>\n",
       "      <td>20000</td>\n",
       "      <td>1</td>\n",
       "      <td>3</td>\n",
       "      <td>2</td>\n",
       "      <td>35</td>\n",
       "      <td>-2</td>\n",
       "      <td>-2</td>\n",
       "      <td>-2</td>\n",
       "      <td>-2</td>\n",
       "      <td>...</td>\n",
       "      <td>0</td>\n",
       "      <td>13007</td>\n",
       "      <td>13912</td>\n",
       "      <td>0</td>\n",
       "      <td>0</td>\n",
       "      <td>0</td>\n",
       "      <td>13007</td>\n",
       "      <td>1122</td>\n",
       "      <td>0</td>\n",
       "      <td>0</td>\n",
       "    </tr>\n",
       "    <tr>\n",
       "      <th>10</th>\n",
       "      <td>b73c34fc-91cf</td>\n",
       "      <td>200000</td>\n",
       "      <td>2</td>\n",
       "      <td>3</td>\n",
       "      <td>2</td>\n",
       "      <td>34</td>\n",
       "      <td>0</td>\n",
       "      <td>0</td>\n",
       "      <td>2</td>\n",
       "      <td>0</td>\n",
       "      <td>...</td>\n",
       "      <td>2513</td>\n",
       "      <td>1828</td>\n",
       "      <td>3731</td>\n",
       "      <td>2306</td>\n",
       "      <td>12</td>\n",
       "      <td>50</td>\n",
       "      <td>300</td>\n",
       "      <td>3738</td>\n",
       "      <td>66</td>\n",
       "      <td>0</td>\n",
       "    </tr>\n",
       "    <tr>\n",
       "      <th>11</th>\n",
       "      <td>4777689a-5131</td>\n",
       "      <td>260000</td>\n",
       "      <td>2</td>\n",
       "      <td>1</td>\n",
       "      <td>2</td>\n",
       "      <td>51</td>\n",
       "      <td>-1</td>\n",
       "      <td>-1</td>\n",
       "      <td>-1</td>\n",
       "      <td>-1</td>\n",
       "      <td>...</td>\n",
       "      <td>8517</td>\n",
       "      <td>22287</td>\n",
       "      <td>13668</td>\n",
       "      <td>21818</td>\n",
       "      <td>9966</td>\n",
       "      <td>8583</td>\n",
       "      <td>22301</td>\n",
       "      <td>0</td>\n",
       "      <td>3640</td>\n",
       "      <td>0</td>\n",
       "    </tr>\n",
       "    <tr>\n",
       "      <th>12</th>\n",
       "      <td>b814ac5c-3d88</td>\n",
       "      <td>630000</td>\n",
       "      <td>2</td>\n",
       "      <td>2</td>\n",
       "      <td>2</td>\n",
       "      <td>41</td>\n",
       "      <td>-1</td>\n",
       "      <td>0</td>\n",
       "      <td>-1</td>\n",
       "      <td>-1</td>\n",
       "      <td>...</td>\n",
       "      <td>6500</td>\n",
       "      <td>6500</td>\n",
       "      <td>2870</td>\n",
       "      <td>1000</td>\n",
       "      <td>6500</td>\n",
       "      <td>6500</td>\n",
       "      <td>6500</td>\n",
       "      <td>2870</td>\n",
       "      <td>0</td>\n",
       "      <td>0</td>\n",
       "    </tr>\n",
       "    <tr>\n",
       "      <th>13</th>\n",
       "      <td>a17b23d4-357b</td>\n",
       "      <td>70000</td>\n",
       "      <td>1</td>\n",
       "      <td>2</td>\n",
       "      <td>2</td>\n",
       "      <td>30</td>\n",
       "      <td>1</td>\n",
       "      <td>2</td>\n",
       "      <td>2</td>\n",
       "      <td>0</td>\n",
       "      <td>...</td>\n",
       "      <td>66782</td>\n",
       "      <td>36137</td>\n",
       "      <td>36894</td>\n",
       "      <td>3200</td>\n",
       "      <td>0</td>\n",
       "      <td>3000</td>\n",
       "      <td>3000</td>\n",
       "      <td>1500</td>\n",
       "      <td>0</td>\n",
       "      <td>1</td>\n",
       "    </tr>\n",
       "    <tr>\n",
       "      <th>14</th>\n",
       "      <td>0d6f99ad-84e9</td>\n",
       "      <td>250000</td>\n",
       "      <td>1</td>\n",
       "      <td>1</td>\n",
       "      <td>2</td>\n",
       "      <td>29</td>\n",
       "      <td>0</td>\n",
       "      <td>0</td>\n",
       "      <td>0</td>\n",
       "      <td>0</td>\n",
       "      <td>...</td>\n",
       "      <td>59696</td>\n",
       "      <td>56875</td>\n",
       "      <td>55512</td>\n",
       "      <td>3000</td>\n",
       "      <td>3000</td>\n",
       "      <td>3000</td>\n",
       "      <td>3000</td>\n",
       "      <td>3000</td>\n",
       "      <td>3000</td>\n",
       "      <td>0</td>\n",
       "    </tr>\n",
       "    <tr>\n",
       "      <th>15</th>\n",
       "      <td>8f023df0-a9ea</td>\n",
       "      <td>50000</td>\n",
       "      <td>2</td>\n",
       "      <td>3</td>\n",
       "      <td>3</td>\n",
       "      <td>23</td>\n",
       "      <td>1</td>\n",
       "      <td>2</td>\n",
       "      <td>0</td>\n",
       "      <td>0</td>\n",
       "      <td>...</td>\n",
       "      <td>28771</td>\n",
       "      <td>29531</td>\n",
       "      <td>30211</td>\n",
       "      <td>0</td>\n",
       "      <td>1500</td>\n",
       "      <td>1100</td>\n",
       "      <td>1200</td>\n",
       "      <td>1300</td>\n",
       "      <td>1100</td>\n",
       "      <td>0</td>\n",
       "    </tr>\n",
       "    <tr>\n",
       "      <th>16</th>\n",
       "      <td>cbf648a6-98aa</td>\n",
       "      <td>20000</td>\n",
       "      <td>1</td>\n",
       "      <td>1</td>\n",
       "      <td>2</td>\n",
       "      <td>24</td>\n",
       "      <td>0</td>\n",
       "      <td>0</td>\n",
       "      <td>2</td>\n",
       "      <td>2</td>\n",
       "      <td>...</td>\n",
       "      <td>18338</td>\n",
       "      <td>17905</td>\n",
       "      <td>19104</td>\n",
       "      <td>3200</td>\n",
       "      <td>0</td>\n",
       "      <td>1500</td>\n",
       "      <td>0</td>\n",
       "      <td>1650</td>\n",
       "      <td>0</td>\n",
       "      <td>1</td>\n",
       "    </tr>\n",
       "    <tr>\n",
       "      <th>17</th>\n",
       "      <td>f0ba5e02-0c0f</td>\n",
       "      <td>320000</td>\n",
       "      <td>1</td>\n",
       "      <td>1</td>\n",
       "      <td>1</td>\n",
       "      <td>49</td>\n",
       "      <td>Not available</td>\n",
       "      <td>0</td>\n",
       "      <td>0</td>\n",
       "      <td>-1</td>\n",
       "      <td>...</td>\n",
       "      <td>70074</td>\n",
       "      <td>5856</td>\n",
       "      <td>195599</td>\n",
       "      <td>10358</td>\n",
       "      <td>10000</td>\n",
       "      <td>75940</td>\n",
       "      <td>20000</td>\n",
       "      <td>195599</td>\n",
       "      <td>50000</td>\n",
       "      <td>0</td>\n",
       "    </tr>\n",
       "    <tr>\n",
       "      <th>18</th>\n",
       "      <td>cb258690-8ea2</td>\n",
       "      <td>360000</td>\n",
       "      <td>2</td>\n",
       "      <td>1</td>\n",
       "      <td>1</td>\n",
       "      <td>49</td>\n",
       "      <td>1</td>\n",
       "      <td>-2</td>\n",
       "      <td>-2</td>\n",
       "      <td>-2</td>\n",
       "      <td>...</td>\n",
       "      <td>0</td>\n",
       "      <td>0</td>\n",
       "      <td>0</td>\n",
       "      <td>0</td>\n",
       "      <td>0</td>\n",
       "      <td>0</td>\n",
       "      <td>0</td>\n",
       "      <td>0</td>\n",
       "      <td>0</td>\n",
       "      <td>0</td>\n",
       "    </tr>\n",
       "    <tr>\n",
       "      <th>19</th>\n",
       "      <td>f6f0307a-b75f</td>\n",
       "      <td>180000</td>\n",
       "      <td>2</td>\n",
       "      <td>1</td>\n",
       "      <td>2</td>\n",
       "      <td>29</td>\n",
       "      <td>1</td>\n",
       "      <td>-2</td>\n",
       "      <td>-2</td>\n",
       "      <td>-2</td>\n",
       "      <td>...</td>\n",
       "      <td>0</td>\n",
       "      <td>0</td>\n",
       "      <td>0</td>\n",
       "      <td>0</td>\n",
       "      <td>0</td>\n",
       "      <td>0</td>\n",
       "      <td>0</td>\n",
       "      <td>0</td>\n",
       "      <td>0</td>\n",
       "      <td>0</td>\n",
       "    </tr>\n",
       "  </tbody>\n",
       "</table>\n",
       "<p>20 rows × 25 columns</p>\n",
       "</div>"
      ],
      "text/plain": [
       "               ID  LIMIT_BAL  SEX  EDUCATION  MARRIAGE  AGE          PAY_1  \\\n",
       "0   798fc410-45c1      20000    2          2         1   24              2   \n",
       "1   8a8c8f3b-8eb4     120000    2          2         2   26             -1   \n",
       "2   85698822-43f5      90000    2          2         2   34              0   \n",
       "3   0737c11b-be42      50000    2          2         1   37              0   \n",
       "4   3b7f77cc-dbc0      50000    1          2         1   57             -1   \n",
       "5   ceae2946-47e4      50000    1          1         2   37              0   \n",
       "6   d3b8ce26-9c89     500000    1          1         2   29              0   \n",
       "7   d6e1911b-54d0     100000    2          2         2   23              0   \n",
       "8   8421d3b3-2b54     140000    2          3         1   28              0   \n",
       "9   62a2fd79-cd90      20000    1          3         2   35             -2   \n",
       "10  b73c34fc-91cf     200000    2          3         2   34              0   \n",
       "11  4777689a-5131     260000    2          1         2   51             -1   \n",
       "12  b814ac5c-3d88     630000    2          2         2   41             -1   \n",
       "13  a17b23d4-357b      70000    1          2         2   30              1   \n",
       "14  0d6f99ad-84e9     250000    1          1         2   29              0   \n",
       "15  8f023df0-a9ea      50000    2          3         3   23              1   \n",
       "16  cbf648a6-98aa      20000    1          1         2   24              0   \n",
       "17  f0ba5e02-0c0f     320000    1          1         1   49  Not available   \n",
       "18  cb258690-8ea2     360000    2          1         1   49              1   \n",
       "19  f6f0307a-b75f     180000    2          1         2   29              1   \n",
       "\n",
       "    PAY_2  PAY_3  PAY_4  ...  BILL_AMT4  BILL_AMT5  BILL_AMT6  PAY_AMT1  \\\n",
       "0       2     -1     -1  ...          0          0          0         0   \n",
       "1       2      0      0  ...       3272       3455       3261         0   \n",
       "2       0      0      0  ...      14331      14948      15549      1518   \n",
       "3       0      0      0  ...      28314      28959      29547      2000   \n",
       "4       0     -1      0  ...      20940      19146      19131      2000   \n",
       "5       0      0      0  ...      19394      19619      20024      2500   \n",
       "6       0      0      0  ...     542653     483003     473944     55000   \n",
       "7      -1     -1      0  ...        221       -159        567       380   \n",
       "8       0      2      0  ...      12211      11793       3719      3329   \n",
       "9      -2     -2     -2  ...          0      13007      13912         0   \n",
       "10      0      2      0  ...       2513       1828       3731      2306   \n",
       "11     -1     -1     -1  ...       8517      22287      13668     21818   \n",
       "12      0     -1     -1  ...       6500       6500       2870      1000   \n",
       "13      2      2      0  ...      66782      36137      36894      3200   \n",
       "14      0      0      0  ...      59696      56875      55512      3000   \n",
       "15      2      0      0  ...      28771      29531      30211         0   \n",
       "16      0      2      2  ...      18338      17905      19104      3200   \n",
       "17      0      0     -1  ...      70074       5856     195599     10358   \n",
       "18     -2     -2     -2  ...          0          0          0         0   \n",
       "19     -2     -2     -2  ...          0          0          0         0   \n",
       "\n",
       "    PAY_AMT2  PAY_AMT3  PAY_AMT4  PAY_AMT5  PAY_AMT6  \\\n",
       "0        689         0         0         0         0   \n",
       "1       1000      1000      1000         0      2000   \n",
       "2       1500      1000      1000      1000      5000   \n",
       "3       2019      1200      1100      1069      1000   \n",
       "4      36681     10000      9000       689       679   \n",
       "5       1815       657      1000      1000       800   \n",
       "6      40000     38000     20239     13750     13770   \n",
       "7        601         0       581      1687      1542   \n",
       "8          0       432      1000      1000      1000   \n",
       "9          0         0     13007      1122         0   \n",
       "10        12        50       300      3738        66   \n",
       "11      9966      8583     22301         0      3640   \n",
       "12      6500      6500      6500      2870         0   \n",
       "13         0      3000      3000      1500         0   \n",
       "14      3000      3000      3000      3000      3000   \n",
       "15      1500      1100      1200      1300      1100   \n",
       "16         0      1500         0      1650         0   \n",
       "17     10000     75940     20000    195599     50000   \n",
       "18         0         0         0         0         0   \n",
       "19         0         0         0         0         0   \n",
       "\n",
       "    default payment next month  \n",
       "0                            1  \n",
       "1                            1  \n",
       "2                            0  \n",
       "3                            0  \n",
       "4                            0  \n",
       "5                            0  \n",
       "6                            0  \n",
       "7                            0  \n",
       "8                            0  \n",
       "9                            0  \n",
       "10                           0  \n",
       "11                           0  \n",
       "12                           0  \n",
       "13                           1  \n",
       "14                           0  \n",
       "15                           0  \n",
       "16                           1  \n",
       "17                           0  \n",
       "18                           0  \n",
       "19                           0  \n",
       "\n",
       "[20 rows x 25 columns]"
      ]
     },
     "execution_count": 12,
     "metadata": {},
     "output_type": "execute_result"
    }
   ],
   "source": [
    "# fornece as primeiras n(20) linhas do DataFrame\n",
    "df.head(20)"
   ]
  },
  {
   "cell_type": "raw",
   "id": "d16ec751",
   "metadata": {},
   "source": [
    "VERIFICANDO A INTEGRIDADE BÁSICA DOS DADOS"
   ]
  },
  {
   "cell_type": "code",
   "execution_count": 34,
   "id": "fd76977e",
   "metadata": {},
   "outputs": [
    {
     "data": {
      "text/plain": [
       "Index(['ID', 'LIMIT_BAL', 'SEX', 'EDUCATION', 'MARRIAGE', 'AGE', 'PAY_1',\n",
       "       'PAY_2', 'PAY_3', 'PAY_4', 'PAY_5', 'PAY_6', 'BILL_AMT1', 'BILL_AMT2',\n",
       "       'BILL_AMT3', 'BILL_AMT4', 'BILL_AMT5', 'BILL_AMT6', 'PAY_AMT1',\n",
       "       'PAY_AMT2', 'PAY_AMT3', 'PAY_AMT4', 'PAY_AMT5', 'PAY_AMT6',\n",
       "       'default payment next month'],\n",
       "      dtype='object')"
      ]
     },
     "execution_count": 34,
     "metadata": {},
     "output_type": "execute_result"
    }
   ],
   "source": [
    "# examinar os nomes das colunas\n",
    "df.columns"
   ]
  },
  {
   "cell_type": "markdown",
   "id": "160ec292",
   "metadata": {},
   "source": [
    "Coluna de IDs                     -> ID\n",
    "\n",
    "Outras colunas                    -> características\n",
    "\n",
    "Coluna default payment next month -> variável resposta\n"
   ]
  },
  {
   "cell_type": "markdown",
   "id": "aa5d97fe",
   "metadata": {},
   "source": [
    "LIMIT_BAL -> valor do crédito fornecido (em novos dólares taiwaneses (NT)) inclusive o crédito do consumidor individual e familiar (complementar)"
   ]
  },
  {
   "cell_type": "markdown",
   "id": "edd71000",
   "metadata": {},
   "source": [
    "SEX -> gênero (1 = masculino; 2 = feminino)"
   ]
  },
  {
   "cell_type": "markdown",
   "id": "1f7d73ce",
   "metadata": {},
   "source": [
    "EDUCATION -> instrução (1 = pós-graduação; 2 = universidade; 3 = ensino médio; 4 = outros)"
   ]
  },
  {
   "cell_type": "markdown",
   "id": "e8f290d7",
   "metadata": {},
   "source": [
    "MARRIAGE -> estado civil (1 = casado; 2 = solteiro; 3 = outros)"
   ]
  },
  {
   "cell_type": "markdown",
   "id": "b1787261",
   "metadata": {},
   "source": [
    "AGE -> idade"
   ]
  },
  {
   "cell_type": "markdown",
   "id": "866e2319",
   "metadata": {},
   "source": [
    "(PAY_1 - PAY_6) -> registros de pagamentos passados (pagamentos mensais passados, registrados de abril a setembro, são armazenados nessas colunas)"
   ]
  },
  {
   "cell_type": "markdown",
   "id": "57850761",
   "metadata": {},
   "source": [
    "PAY_1 -> status reembolso setembro"
   ]
  },
  {
   "cell_type": "markdown",
   "id": "e2b3610c",
   "metadata": {},
   "source": [
    "PAY_2 -> status reembolso agosto"
   ]
  },
  {
   "cell_type": "markdown",
   "id": "1304e7bf",
   "metadata": {},
   "source": [
    "PAY_3 -> status reembolso julho"
   ]
  },
  {
   "cell_type": "markdown",
   "id": "c3752a30",
   "metadata": {},
   "source": [
    "PAY_4 -> status reembolso junho"
   ]
  },
  {
   "cell_type": "markdown",
   "id": "b67f8cf1",
   "metadata": {},
   "source": [
    "PAY_5 -> status reembolso maio"
   ]
  },
  {
   "cell_type": "markdown",
   "id": "d83f2bd3",
   "metadata": {},
   "source": [
    "PAY_6 -> status reembolso abril"
   ]
  },
  {
   "cell_type": "markdown",
   "id": "b7195158",
   "metadata": {},
   "source": [
    "-- Escala de medida do status reembolso --\n",
    "\n",
    "-1 = pgto pontual\n",
    "\n",
    "1 = atraso pgto de um mês\n",
    "\n",
    "2 = atraso pgto de dois meses\n",
    "\n",
    "assim por diante até o 9...\n",
    "\n",
    "9 = atraso pgto de 9 meses ou mais"
   ]
  },
  {
   "cell_type": "markdown",
   "id": "8c764177",
   "metadata": {},
   "source": [
    "(BILL_AMT1 - BILL_AMT6) -> valor da fatura (em novos dólares taiwaneses)"
   ]
  },
  {
   "cell_type": "markdown",
   "id": "67a13db3",
   "metadata": {},
   "source": [
    "BILL_AMT1 -> valor fatura setembro"
   ]
  },
  {
   "cell_type": "markdown",
   "id": "b34874a0",
   "metadata": {},
   "source": [
    "BILL_AMT2 -> valor fatura agosto"
   ]
  },
  {
   "cell_type": "markdown",
   "id": "2a2319eb",
   "metadata": {},
   "source": [
    "BILL_AMT3 -> valor fatura julho"
   ]
  },
  {
   "cell_type": "markdown",
   "id": "e1069365",
   "metadata": {},
   "source": [
    "BILL_AMT4 -> valor fatura junho"
   ]
  },
  {
   "cell_type": "markdown",
   "id": "69e27ad7",
   "metadata": {},
   "source": [
    "BILL_AMT5 -> valor fatura maio"
   ]
  },
  {
   "cell_type": "markdown",
   "id": "cbf84c9f",
   "metadata": {},
   "source": [
    "BILL_AMT6 -> valor fatura abril"
   ]
  },
  {
   "cell_type": "markdown",
   "id": "4665a59b",
   "metadata": {},
   "source": [
    "(PAY_AMT1 - PAY_AMT6) -> valor de pgtos anteriores (em novos dólares taiawneses)"
   ]
  },
  {
   "cell_type": "markdown",
   "id": "fefa4ac7",
   "metadata": {},
   "source": [
    "PAY_AMT1 -> valor pago em setembro"
   ]
  },
  {
   "cell_type": "markdown",
   "id": "34ed76a7",
   "metadata": {},
   "source": [
    "PAY_AMT2 -> valor pago em agosto"
   ]
  },
  {
   "cell_type": "markdown",
   "id": "f6de49c8",
   "metadata": {},
   "source": [
    "PAY_AMT3 -> valor pago em julho"
   ]
  },
  {
   "cell_type": "markdown",
   "id": "6cf263f9",
   "metadata": {},
   "source": [
    "PAY_AMT4 -> valor pago em junho\n"
   ]
  },
  {
   "cell_type": "markdown",
   "id": "551b9d45",
   "metadata": {},
   "source": [
    "PAY_AMT5 -> valor pago maio"
   ]
  },
  {
   "cell_type": "markdown",
   "id": "c450b68e",
   "metadata": {},
   "source": [
    "PAY_AMT6 -> valor pago em abril"
   ]
  },
  {
   "cell_type": "code",
   "execution_count": 35,
   "id": "15eca5ec",
   "metadata": {},
   "outputs": [
    {
     "data": {
      "text/html": [
       "<div>\n",
       "<style scoped>\n",
       "    .dataframe tbody tr th:only-of-type {\n",
       "        vertical-align: middle;\n",
       "    }\n",
       "\n",
       "    .dataframe tbody tr th {\n",
       "        vertical-align: top;\n",
       "    }\n",
       "\n",
       "    .dataframe thead th {\n",
       "        text-align: right;\n",
       "    }\n",
       "</style>\n",
       "<table border=\"1\" class=\"dataframe\">\n",
       "  <thead>\n",
       "    <tr style=\"text-align: right;\">\n",
       "      <th></th>\n",
       "      <th>ID</th>\n",
       "      <th>LIMIT_BAL</th>\n",
       "      <th>SEX</th>\n",
       "      <th>EDUCATION</th>\n",
       "      <th>MARRIAGE</th>\n",
       "      <th>AGE</th>\n",
       "      <th>PAY_1</th>\n",
       "      <th>PAY_2</th>\n",
       "      <th>PAY_3</th>\n",
       "      <th>PAY_4</th>\n",
       "      <th>...</th>\n",
       "      <th>BILL_AMT4</th>\n",
       "      <th>BILL_AMT5</th>\n",
       "      <th>BILL_AMT6</th>\n",
       "      <th>PAY_AMT1</th>\n",
       "      <th>PAY_AMT2</th>\n",
       "      <th>PAY_AMT3</th>\n",
       "      <th>PAY_AMT4</th>\n",
       "      <th>PAY_AMT5</th>\n",
       "      <th>PAY_AMT6</th>\n",
       "      <th>default payment next month</th>\n",
       "    </tr>\n",
       "  </thead>\n",
       "  <tbody>\n",
       "    <tr>\n",
       "      <th>0</th>\n",
       "      <td>798fc410-45c1</td>\n",
       "      <td>20000</td>\n",
       "      <td>2</td>\n",
       "      <td>2</td>\n",
       "      <td>1</td>\n",
       "      <td>24</td>\n",
       "      <td>2</td>\n",
       "      <td>2</td>\n",
       "      <td>-1</td>\n",
       "      <td>-1</td>\n",
       "      <td>...</td>\n",
       "      <td>0</td>\n",
       "      <td>0</td>\n",
       "      <td>0</td>\n",
       "      <td>0</td>\n",
       "      <td>689</td>\n",
       "      <td>0</td>\n",
       "      <td>0</td>\n",
       "      <td>0</td>\n",
       "      <td>0</td>\n",
       "      <td>1</td>\n",
       "    </tr>\n",
       "    <tr>\n",
       "      <th>1</th>\n",
       "      <td>8a8c8f3b-8eb4</td>\n",
       "      <td>120000</td>\n",
       "      <td>2</td>\n",
       "      <td>2</td>\n",
       "      <td>2</td>\n",
       "      <td>26</td>\n",
       "      <td>-1</td>\n",
       "      <td>2</td>\n",
       "      <td>0</td>\n",
       "      <td>0</td>\n",
       "      <td>...</td>\n",
       "      <td>3272</td>\n",
       "      <td>3455</td>\n",
       "      <td>3261</td>\n",
       "      <td>0</td>\n",
       "      <td>1000</td>\n",
       "      <td>1000</td>\n",
       "      <td>1000</td>\n",
       "      <td>0</td>\n",
       "      <td>2000</td>\n",
       "      <td>1</td>\n",
       "    </tr>\n",
       "    <tr>\n",
       "      <th>2</th>\n",
       "      <td>85698822-43f5</td>\n",
       "      <td>90000</td>\n",
       "      <td>2</td>\n",
       "      <td>2</td>\n",
       "      <td>2</td>\n",
       "      <td>34</td>\n",
       "      <td>0</td>\n",
       "      <td>0</td>\n",
       "      <td>0</td>\n",
       "      <td>0</td>\n",
       "      <td>...</td>\n",
       "      <td>14331</td>\n",
       "      <td>14948</td>\n",
       "      <td>15549</td>\n",
       "      <td>1518</td>\n",
       "      <td>1500</td>\n",
       "      <td>1000</td>\n",
       "      <td>1000</td>\n",
       "      <td>1000</td>\n",
       "      <td>5000</td>\n",
       "      <td>0</td>\n",
       "    </tr>\n",
       "    <tr>\n",
       "      <th>3</th>\n",
       "      <td>0737c11b-be42</td>\n",
       "      <td>50000</td>\n",
       "      <td>2</td>\n",
       "      <td>2</td>\n",
       "      <td>1</td>\n",
       "      <td>37</td>\n",
       "      <td>0</td>\n",
       "      <td>0</td>\n",
       "      <td>0</td>\n",
       "      <td>0</td>\n",
       "      <td>...</td>\n",
       "      <td>28314</td>\n",
       "      <td>28959</td>\n",
       "      <td>29547</td>\n",
       "      <td>2000</td>\n",
       "      <td>2019</td>\n",
       "      <td>1200</td>\n",
       "      <td>1100</td>\n",
       "      <td>1069</td>\n",
       "      <td>1000</td>\n",
       "      <td>0</td>\n",
       "    </tr>\n",
       "    <tr>\n",
       "      <th>4</th>\n",
       "      <td>3b7f77cc-dbc0</td>\n",
       "      <td>50000</td>\n",
       "      <td>1</td>\n",
       "      <td>2</td>\n",
       "      <td>1</td>\n",
       "      <td>57</td>\n",
       "      <td>-1</td>\n",
       "      <td>0</td>\n",
       "      <td>-1</td>\n",
       "      <td>0</td>\n",
       "      <td>...</td>\n",
       "      <td>20940</td>\n",
       "      <td>19146</td>\n",
       "      <td>19131</td>\n",
       "      <td>2000</td>\n",
       "      <td>36681</td>\n",
       "      <td>10000</td>\n",
       "      <td>9000</td>\n",
       "      <td>689</td>\n",
       "      <td>679</td>\n",
       "      <td>0</td>\n",
       "    </tr>\n",
       "  </tbody>\n",
       "</table>\n",
       "<p>5 rows × 25 columns</p>\n",
       "</div>"
      ],
      "text/plain": [
       "              ID  LIMIT_BAL  SEX  EDUCATION  MARRIAGE  AGE PAY_1  PAY_2  \\\n",
       "0  798fc410-45c1      20000    2          2         1   24     2      2   \n",
       "1  8a8c8f3b-8eb4     120000    2          2         2   26    -1      2   \n",
       "2  85698822-43f5      90000    2          2         2   34     0      0   \n",
       "3  0737c11b-be42      50000    2          2         1   37     0      0   \n",
       "4  3b7f77cc-dbc0      50000    1          2         1   57    -1      0   \n",
       "\n",
       "   PAY_3  PAY_4  ...  BILL_AMT4  BILL_AMT5  BILL_AMT6  PAY_AMT1  PAY_AMT2  \\\n",
       "0     -1     -1  ...          0          0          0         0       689   \n",
       "1      0      0  ...       3272       3455       3261         0      1000   \n",
       "2      0      0  ...      14331      14948      15549      1518      1500   \n",
       "3      0      0  ...      28314      28959      29547      2000      2019   \n",
       "4     -1      0  ...      20940      19146      19131      2000     36681   \n",
       "\n",
       "   PAY_AMT3  PAY_AMT4  PAY_AMT5  PAY_AMT6  default payment next month  \n",
       "0         0         0         0         0                           1  \n",
       "1      1000      1000         0      2000                           1  \n",
       "2      1000      1000      1000      5000                           0  \n",
       "3      1200      1100      1069      1000                           0  \n",
       "4     10000      9000       689       679                           0  \n",
       "\n",
       "[5 rows x 25 columns]"
      ]
     },
     "execution_count": 35,
     "metadata": {},
     "output_type": "execute_result"
    }
   ],
   "source": [
    "# observar as primeiras linhas de dados\n",
    "df.head()"
   ]
  },
  {
   "cell_type": "code",
   "execution_count": 36,
   "id": "8f156c83",
   "metadata": {},
   "outputs": [
    {
     "data": {
      "text/plain": [
       "29687"
      ]
     },
     "execution_count": 36,
     "metadata": {},
     "output_type": "execute_result"
    }
   ],
   "source": [
    "# a coluna ID parece conter valores exclusivos \n",
    "\n",
    "# -> verificar se isso ocorre realmente em todo o dataset \n",
    "\n",
    "# -> podemos contar o número de valores exclusivos na série ID (primeiro selecionaremos a coluna usando colchetes)\n",
    "\n",
    "df['ID'].nunique()\n",
    "\n",
    "\n"
   ]
  },
  {
   "cell_type": "code",
   "execution_count": 37,
   "id": "b23d2e92",
   "metadata": {},
   "outputs": [
    {
     "data": {
      "text/plain": [
       "(30000, 25)"
      ]
     },
     "execution_count": 37,
     "metadata": {},
     "output_type": "execute_result"
    }
   ],
   "source": [
    "# agora vamos verificar o número de linhas do dataset\n",
    "\n",
    "df.shape"
   ]
  },
  {
   "cell_type": "raw",
   "id": "56b8953f",
   "metadata": {},
   "source": [
    "identificamos que número de IDs exclusivos é menor do que o número de linhas. \n",
    "\n",
    "    -> isso significa que o ID não é um identificador exclusivo para as linhas de dados\n",
    "\n",
    "    -> sabemos então que há alguma duplicaçào de IDs\n",
    "\n",
    "    -> mas:\n",
    "     \n",
    "         -> em que quntidade?\n",
    "         -> quantos IDs estão sendo duplicados?\n",
    "    \n"
   ]
  },
  {
   "cell_type": "code",
   "execution_count": 38,
   "id": "edff0371",
   "metadata": {},
   "outputs": [
    {
     "data": {
      "text/plain": [
       "ad23fe5c-7b09    2\n",
       "1fb3e3e6-a68d    2\n",
       "89f8f447-fca8    2\n",
       "7c9b7473-cc2f    2\n",
       "90330d02-82d9    2\n",
       "Name: ID, dtype: int64"
      ]
     },
     "execution_count": 38,
     "metadata": {},
     "output_type": "execute_result"
    }
   ],
   "source": [
    "# utilizaremos o método .value_counts(), que listará os IDs exclusivos e a frequência com que ocorrem\n",
    "\n",
    "# primeiro vamos armazenar as contagens de valores em uma variável (id_counts)\n",
    "\n",
    "id_counts = df['ID'].value_counts()\n",
    "\n",
    "# exiba os valores armazenados usando o método .head()\n",
    "\n",
    "id_counts.head()"
   ]
  },
  {
   "cell_type": "code",
   "execution_count": 39,
   "id": "0f75ade0",
   "metadata": {},
   "outputs": [
    {
     "data": {
      "text/plain": [
       "1    29374\n",
       "2      313\n",
       "Name: ID, dtype: int64"
      ]
     },
     "execution_count": 39,
     "metadata": {},
     "output_type": "execute_result"
    }
   ],
   "source": [
    "# exiba o número de entradas duplicadas agrupadas executando outra contagem de valores\n",
    "\n",
    "id_counts.value_counts()"
   ]
  },
  {
   "cell_type": "markdown",
   "id": "d67782e7",
   "metadata": {},
   "source": [
    "podemos ver que:\n",
    "\n",
    "    -> 29374 dos IDs ocorrem extamente uma única vez, como esperado\n",
    "    -> 313 dos Ids no entanto, ocorrem duas vezes (duplicados)\n",
    "    "
   ]
  },
  {
   "cell_type": "markdown",
   "id": "a345844a",
   "metadata": {},
   "source": [
    "**MÁSCARAS BOOLEANAS**\n",
    "\n",
    "Para ajudar a limpar os dados, introduziremos o conceito de **máscara lógica**, também conhecida como **máscara booleana**."
   ]
  },
  {
   "cell_type": "markdown",
   "id": "a9726236",
   "metadata": {},
   "source": [
    "Para ilustrar como funciona, usaremos **dados sintéticos**, ou seja, dados criados para a exploração ou a ilustração de um conceito"
   ]
  },
  {
   "cell_type": "markdown",
   "id": "a536c780",
   "metadata": {},
   "source": [
    "Primeiro, importaremos o pacote **NumPy**, que tem muitos recursos de **geração de números aleatórios**"
   ]
  },
  {
   "cell_type": "code",
   "execution_count": 40,
   "id": "b4864ed6",
   "metadata": {},
   "outputs": [],
   "source": [
    "# importando o pacote NumPy\n",
    "\n",
    "import numpy as np"
   ]
  },
  {
   "cell_type": "code",
   "execution_count": 41,
   "id": "9d416b28",
   "metadata": {},
   "outputs": [],
   "source": [
    "# Definindo um seed no gerador de números aleatórios\n",
    "\n",
    "# se você definir um seed, obterá os mesmos resultados entre as execuções do gerador, 0(zero) -> sempre repetirá o primeiro resultado aleatório\n",
    "# caso contrário, isso não é garantido\n",
    "\n",
    "np.random.seed(seed=24)\n",
    "    "
   ]
  },
  {
   "cell_type": "code",
   "execution_count": 42,
   "id": "e1127521",
   "metadata": {},
   "outputs": [],
   "source": [
    "# geraremos 100 inteiros aleatórios, selecionados entre 1 e 5 (inclusive)\n",
    "\n",
    "#    -> vamos utilizar numpy.random.randint, com os argumentos apropriados\n",
    "\n",
    "random_integers = np.random.randint(low=1,high=5,size=100)"
   ]
  },
  {
   "cell_type": "code",
   "execution_count": 43,
   "id": "ffd0b2ac",
   "metadata": {},
   "outputs": [
    {
     "data": {
      "text/plain": [
       "array([3, 4, 1, 4, 2])"
      ]
     },
     "execution_count": 43,
     "metadata": {},
     "output_type": "execute_result"
    }
   ],
   "source": [
    "# examinaremos os cinco primeiros elementos desse array, com random_integers[:5]\n",
    "\n",
    "random_integers[:5]"
   ]
  },
  {
   "cell_type": "code",
   "execution_count": 44,
   "id": "e6eb30de",
   "metadata": {},
   "outputs": [],
   "source": [
    "# suponhamos que quiséssemos conhecer os locais de todos os elementos de random_integers igual a 1\n",
    "\n",
    "#    -> poderíamos criar uma máscara booleana para fazer isso\n",
    "\n",
    "is_equal_to_1 = random_integers ==1"
   ]
  },
  {
   "cell_type": "code",
   "execution_count": 45,
   "id": "5103f137",
   "metadata": {},
   "outputs": [
    {
     "data": {
      "text/plain": [
       "array([False, False,  True, False, False])"
      ]
     },
     "execution_count": 45,
     "metadata": {},
     "output_type": "execute_result"
    }
   ],
   "source": [
    "# verificando os 5 primeiros elementos\n",
    "\n",
    "is_equal_to_1[:5]"
   ]
  },
  {
   "cell_type": "code",
   "execution_count": 46,
   "id": "0fe6310c",
   "metadata": {},
   "outputs": [
    {
     "data": {
      "text/plain": [
       "array([False, False,  True, False, False, False, False,  True, False,\n",
       "       False,  True, False, False, False, False, False, False, False,\n",
       "       False, False])"
      ]
     },
     "execution_count": 46,
     "metadata": {},
     "output_type": "execute_result"
    }
   ],
   "source": [
    "# verificando os 20 primeiros elementos\n",
    "\n",
    "is_equal_to_1[:20]"
   ]
  },
  {
   "cell_type": "code",
   "execution_count": 47,
   "id": "41670d00",
   "metadata": {},
   "outputs": [],
   "source": [
    "# agora suponhamos que quiséssemos saber quantos elementos são iguais a 1\n",
    "\n",
    "#    -> nesse caso, você pode fazer a soma de uma máscara booleana, que interpreta True como 1 e False como 0"
   ]
  },
  {
   "cell_type": "code",
   "execution_count": 48,
   "id": "d74e6e61",
   "metadata": {},
   "outputs": [
    {
     "data": {
      "text/plain": [
       "18"
      ]
     },
     "execution_count": 48,
     "metadata": {},
     "output_type": "execute_result"
    }
   ],
   "source": [
    "# descobrindo quantos elementos são iguais a 1 \n",
    "\n",
    "sum(is_equal_to_1)"
   ]
  },
  {
   "cell_type": "markdown",
   "id": "8f0d72c7",
   "metadata": {},
   "source": [
    "Utilizando a **máscara booleana** para **selecionar os elementos do array** "
   ]
  },
  {
   "cell_type": "code",
   "execution_count": 49,
   "id": "30b640af",
   "metadata": {},
   "outputs": [
    {
     "data": {
      "text/plain": [
       "array([1, 1, 1, 1, 1, 1, 1, 1, 1, 1, 1, 1, 1, 1, 1, 1, 1, 1])"
      ]
     },
     "execution_count": 49,
     "metadata": {},
     "output_type": "execute_result"
    }
   ],
   "source": [
    "# indexando arrays utilizando a máscara booleana\n",
    "\n",
    "random_integers[is_equal_to_1]"
   ]
  },
  {
   "cell_type": "markdown",
   "id": "53acbd88",
   "metadata": {},
   "source": [
    "**Máscara booleana** para **localizar IDs duplicados**"
   ]
  },
  {
   "cell_type": "code",
   "execution_count": 50,
   "id": "cb339dc2",
   "metadata": {},
   "outputs": [],
   "source": [
    "# primeiro queremos os índices da série id_counts cuja contagem é 2 -> para localizar as duplicadas\n",
    "\n",
    "# atribuiremos os Ids duplicados a uma variável chamada dupe_mask\n",
    "\n",
    "dupe_mask = id_counts ==2"
   ]
  },
  {
   "cell_type": "code",
   "execution_count": 51,
   "id": "291b4988",
   "metadata": {},
   "outputs": [
    {
     "data": {
      "text/plain": [
       "ad23fe5c-7b09    True\n",
       "1fb3e3e6-a68d    True\n",
       "89f8f447-fca8    True\n",
       "7c9b7473-cc2f    True\n",
       "90330d02-82d9    True\n",
       "Name: ID, dtype: bool"
      ]
     },
     "execution_count": 51,
     "metadata": {},
     "output_type": "execute_result"
    }
   ],
   "source": [
    "# exibiremos os cinco primeiros Ids duplicados \n",
    "\n",
    "dupe_mask[:5]"
   ]
  },
  {
   "cell_type": "code",
   "execution_count": 52,
   "id": "c5602cf7",
   "metadata": {},
   "outputs": [],
   "source": [
    "# aqui, dupe_mask é a máscara lógica que criamos para armazenar os valores booleanos"
   ]
  },
  {
   "cell_type": "markdown",
   "id": "98f879bb",
   "metadata": {},
   "source": [
    "Nossa próxima etapa é **usar a máscara lógica para selecionar os Ids duplicados**"
   ]
  },
  {
   "cell_type": "code",
   "execution_count": 53,
   "id": "627876fb",
   "metadata": {},
   "outputs": [],
   "source": [
    "# os próprios Ids foram incluídos como índice da série id_count\n",
    "\n",
    "# podemos acessar o índice para usar nossa máscara lógica para fins de seleção"
   ]
  },
  {
   "cell_type": "code",
   "execution_count": 54,
   "id": "aa54db93",
   "metadata": {},
   "outputs": [
    {
     "data": {
      "text/plain": [
       "Index(['ad23fe5c-7b09', '1fb3e3e6-a68d', '89f8f447-fca8', '7c9b7473-cc2f',\n",
       "       '90330d02-82d9'],\n",
       "      dtype='object')"
      ]
     },
     "execution_count": 54,
     "metadata": {},
     "output_type": "execute_result"
    }
   ],
   "source": [
    "# acesse o índice de id_count e exiba as cindo primeiras linhas\n",
    "\n",
    "id_counts.index[:5]"
   ]
  },
  {
   "cell_type": "code",
   "execution_count": 55,
   "id": "5f92bd6a",
   "metadata": {},
   "outputs": [],
   "source": [
    "# selecione e armazene os Ids duplicados em uma nova variável\n",
    "\n",
    "dupe_ids = id_counts.index[dupe_mask]"
   ]
  },
  {
   "cell_type": "code",
   "execution_count": 56,
   "id": "ab64b13a",
   "metadata": {},
   "outputs": [],
   "source": [
    "# converta dupe_ids em uma lista \n",
    "\n",
    "dupe_ids = list(dupe_ids)"
   ]
  },
  {
   "cell_type": "code",
   "execution_count": 57,
   "id": "e3d47786",
   "metadata": {},
   "outputs": [
    {
     "data": {
      "text/plain": [
       "313"
      ]
     },
     "execution_count": 57,
     "metadata": {},
     "output_type": "execute_result"
    }
   ],
   "source": [
    "# obtenha o tamanho da lista\n",
    "\n",
    "len(dupe_ids)"
   ]
  },
  {
   "cell_type": "code",
   "execution_count": 58,
   "id": "446a034e",
   "metadata": {},
   "outputs": [],
   "source": [
    "# altermamos a variável dupe_ids para uma lista\n",
    "\n",
    "# precisaremos dela nessa forma em etapas futuras"
   ]
  },
  {
   "cell_type": "code",
   "execution_count": 59,
   "id": "c394adef",
   "metadata": {},
   "outputs": [],
   "source": [
    "# a lista tem um tamanho igual a 313, que coincide com o número de IDs duplicados"
   ]
  },
  {
   "cell_type": "code",
   "execution_count": 60,
   "id": "34482cb1",
   "metadata": {},
   "outputs": [
    {
     "data": {
      "text/plain": [
       "['ad23fe5c-7b09',\n",
       " '1fb3e3e6-a68d',\n",
       " '89f8f447-fca8',\n",
       " '7c9b7473-cc2f',\n",
       " '90330d02-82d9']"
      ]
     },
     "execution_count": 60,
     "metadata": {},
     "output_type": "execute_result"
    }
   ],
   "source": [
    "# verificamos os dados da lista dupe_ids, exibindo as cinco primeiras entradas\n",
    "\n",
    "dupe_ids[0:5]"
   ]
  },
  {
   "cell_type": "code",
   "execution_count": 61,
   "id": "1a37b654",
   "metadata": {},
   "outputs": [],
   "source": [
    "# podemos observar que a lista contém as entradas de IDs duplicados\n",
    "\n",
    "# estamos prontos para examinar os dados na lista dos Ids duplicados\n",
    "\n",
    "# especificamente, queremos examinar os valores das características:\n",
    "\n",
    "#    -> para ver o que, se houver algo, há de diferente entre essas entradas duplicadas."
   ]
  },
  {
   "cell_type": "code",
   "execution_count": 62,
   "id": "37a2715a",
   "metadata": {},
   "outputs": [],
   "source": [
    "# para isso usaremos os métodos .isin e .loc"
   ]
  },
  {
   "cell_type": "code",
   "execution_count": 63,
   "id": "96e36ae0",
   "metadata": {},
   "outputs": [],
   "source": [
    "# verificamos os três primeiros IDs de nossa lista de duplicadas dupe_ids[0:3]\n",
    "\n",
    "# primeiro queremos encontrar as linhas que contém esses IDs\n",
    "\n",
    "# se passarmos essa lista de Ids para o método .isin da série ID, ele criará outra máscara lógica\n",
    "\n",
    "# que poderemos usar no DataFrame maior para exibir as linhas que contém os IDs\n",
    "\n",
    "# o.isin ficará aninhado em uma instrução .loc\n",
    "\n",
    "# .loc indexa o DataFrame para a seleção local de todas as linhas que contém \"True\" na máscara lógica\n",
    "\n",
    "# o segundo argumento da instrução de indexação .loc é : , que implica que todas as colunas serão seleciondas\n",
    "\n"
   ]
  },
  {
   "cell_type": "code",
   "execution_count": 64,
   "id": "0aff87ca",
   "metadata": {},
   "outputs": [
    {
     "data": {
      "text/html": [
       "<div>\n",
       "<style scoped>\n",
       "    .dataframe tbody tr th:only-of-type {\n",
       "        vertical-align: middle;\n",
       "    }\n",
       "\n",
       "    .dataframe tbody tr th {\n",
       "        vertical-align: top;\n",
       "    }\n",
       "\n",
       "    .dataframe thead th {\n",
       "        text-align: right;\n",
       "    }\n",
       "</style>\n",
       "<table border=\"1\" class=\"dataframe\">\n",
       "  <thead>\n",
       "    <tr style=\"text-align: right;\">\n",
       "      <th></th>\n",
       "      <th>ID</th>\n",
       "      <th>LIMIT_BAL</th>\n",
       "      <th>SEX</th>\n",
       "      <th>EDUCATION</th>\n",
       "      <th>MARRIAGE</th>\n",
       "      <th>AGE</th>\n",
       "      <th>PAY_1</th>\n",
       "      <th>PAY_2</th>\n",
       "      <th>PAY_3</th>\n",
       "      <th>PAY_4</th>\n",
       "      <th>...</th>\n",
       "      <th>BILL_AMT4</th>\n",
       "      <th>BILL_AMT5</th>\n",
       "      <th>BILL_AMT6</th>\n",
       "      <th>PAY_AMT1</th>\n",
       "      <th>PAY_AMT2</th>\n",
       "      <th>PAY_AMT3</th>\n",
       "      <th>PAY_AMT4</th>\n",
       "      <th>PAY_AMT5</th>\n",
       "      <th>PAY_AMT6</th>\n",
       "      <th>default payment next month</th>\n",
       "    </tr>\n",
       "  </thead>\n",
       "  <tbody>\n",
       "    <tr>\n",
       "      <th>5033</th>\n",
       "      <td>89f8f447-fca8</td>\n",
       "      <td>320000</td>\n",
       "      <td>2</td>\n",
       "      <td>2</td>\n",
       "      <td>1</td>\n",
       "      <td>32</td>\n",
       "      <td>0</td>\n",
       "      <td>0</td>\n",
       "      <td>0</td>\n",
       "      <td>0</td>\n",
       "      <td>...</td>\n",
       "      <td>169371</td>\n",
       "      <td>172868</td>\n",
       "      <td>150827</td>\n",
       "      <td>8000</td>\n",
       "      <td>8000</td>\n",
       "      <td>5500</td>\n",
       "      <td>6100</td>\n",
       "      <td>6000</td>\n",
       "      <td>5000</td>\n",
       "      <td>0</td>\n",
       "    </tr>\n",
       "    <tr>\n",
       "      <th>5133</th>\n",
       "      <td>89f8f447-fca8</td>\n",
       "      <td>0</td>\n",
       "      <td>0</td>\n",
       "      <td>0</td>\n",
       "      <td>0</td>\n",
       "      <td>0</td>\n",
       "      <td>0</td>\n",
       "      <td>0</td>\n",
       "      <td>0</td>\n",
       "      <td>0</td>\n",
       "      <td>...</td>\n",
       "      <td>0</td>\n",
       "      <td>0</td>\n",
       "      <td>0</td>\n",
       "      <td>0</td>\n",
       "      <td>0</td>\n",
       "      <td>0</td>\n",
       "      <td>0</td>\n",
       "      <td>0</td>\n",
       "      <td>0</td>\n",
       "      <td>0</td>\n",
       "    </tr>\n",
       "    <tr>\n",
       "      <th>16727</th>\n",
       "      <td>1fb3e3e6-a68d</td>\n",
       "      <td>80000</td>\n",
       "      <td>1</td>\n",
       "      <td>2</td>\n",
       "      <td>2</td>\n",
       "      <td>33</td>\n",
       "      <td>2</td>\n",
       "      <td>2</td>\n",
       "      <td>0</td>\n",
       "      <td>0</td>\n",
       "      <td>...</td>\n",
       "      <td>27394</td>\n",
       "      <td>29922</td>\n",
       "      <td>31879</td>\n",
       "      <td>0</td>\n",
       "      <td>2000</td>\n",
       "      <td>2000</td>\n",
       "      <td>3000</td>\n",
       "      <td>2600</td>\n",
       "      <td>0</td>\n",
       "      <td>1</td>\n",
       "    </tr>\n",
       "    <tr>\n",
       "      <th>16827</th>\n",
       "      <td>1fb3e3e6-a68d</td>\n",
       "      <td>0</td>\n",
       "      <td>0</td>\n",
       "      <td>0</td>\n",
       "      <td>0</td>\n",
       "      <td>0</td>\n",
       "      <td>0</td>\n",
       "      <td>0</td>\n",
       "      <td>0</td>\n",
       "      <td>0</td>\n",
       "      <td>...</td>\n",
       "      <td>0</td>\n",
       "      <td>0</td>\n",
       "      <td>0</td>\n",
       "      <td>0</td>\n",
       "      <td>0</td>\n",
       "      <td>0</td>\n",
       "      <td>0</td>\n",
       "      <td>0</td>\n",
       "      <td>0</td>\n",
       "      <td>0</td>\n",
       "    </tr>\n",
       "    <tr>\n",
       "      <th>29685</th>\n",
       "      <td>ad23fe5c-7b09</td>\n",
       "      <td>50000</td>\n",
       "      <td>1</td>\n",
       "      <td>3</td>\n",
       "      <td>1</td>\n",
       "      <td>32</td>\n",
       "      <td>0</td>\n",
       "      <td>0</td>\n",
       "      <td>0</td>\n",
       "      <td>0</td>\n",
       "      <td>...</td>\n",
       "      <td>12882</td>\n",
       "      <td>8131</td>\n",
       "      <td>3983</td>\n",
       "      <td>3000</td>\n",
       "      <td>2871</td>\n",
       "      <td>1000</td>\n",
       "      <td>163</td>\n",
       "      <td>3983</td>\n",
       "      <td>3771</td>\n",
       "      <td>1</td>\n",
       "    </tr>\n",
       "    <tr>\n",
       "      <th>29785</th>\n",
       "      <td>ad23fe5c-7b09</td>\n",
       "      <td>0</td>\n",
       "      <td>0</td>\n",
       "      <td>0</td>\n",
       "      <td>0</td>\n",
       "      <td>0</td>\n",
       "      <td>0</td>\n",
       "      <td>0</td>\n",
       "      <td>0</td>\n",
       "      <td>0</td>\n",
       "      <td>...</td>\n",
       "      <td>0</td>\n",
       "      <td>0</td>\n",
       "      <td>0</td>\n",
       "      <td>0</td>\n",
       "      <td>0</td>\n",
       "      <td>0</td>\n",
       "      <td>0</td>\n",
       "      <td>0</td>\n",
       "      <td>0</td>\n",
       "      <td>0</td>\n",
       "    </tr>\n",
       "  </tbody>\n",
       "</table>\n",
       "<p>6 rows × 25 columns</p>\n",
       "</div>"
      ],
      "text/plain": [
       "                  ID  LIMIT_BAL  SEX  EDUCATION  MARRIAGE  AGE PAY_1  PAY_2  \\\n",
       "5033   89f8f447-fca8     320000    2          2         1   32     0      0   \n",
       "5133   89f8f447-fca8          0    0          0         0    0     0      0   \n",
       "16727  1fb3e3e6-a68d      80000    1          2         2   33     2      2   \n",
       "16827  1fb3e3e6-a68d          0    0          0         0    0     0      0   \n",
       "29685  ad23fe5c-7b09      50000    1          3         1   32     0      0   \n",
       "29785  ad23fe5c-7b09          0    0          0         0    0     0      0   \n",
       "\n",
       "       PAY_3  PAY_4  ...  BILL_AMT4  BILL_AMT5  BILL_AMT6  PAY_AMT1  PAY_AMT2  \\\n",
       "5033       0      0  ...     169371     172868     150827      8000      8000   \n",
       "5133       0      0  ...          0          0          0         0         0   \n",
       "16727      0      0  ...      27394      29922      31879         0      2000   \n",
       "16827      0      0  ...          0          0          0         0         0   \n",
       "29685      0      0  ...      12882       8131       3983      3000      2871   \n",
       "29785      0      0  ...          0          0          0         0         0   \n",
       "\n",
       "       PAY_AMT3  PAY_AMT4  PAY_AMT5  PAY_AMT6  default payment next month  \n",
       "5033       5500      6100      6000      5000                           0  \n",
       "5133          0         0         0         0                           0  \n",
       "16727      2000      3000      2600         0                           1  \n",
       "16827         0         0         0         0                           0  \n",
       "29685      1000       163      3983      3771                           1  \n",
       "29785         0         0         0         0                           0  \n",
       "\n",
       "[6 rows x 25 columns]"
      ]
     },
     "execution_count": 64,
     "metadata": {},
     "output_type": "execute_result"
    }
   ],
   "source": [
    "# ao executar as próximas etapas estaremos basicamente filtrando o DataFrame para visualizar todas as colunas dos três primeiros IDs duplicados.\n",
    "\n",
    "# examine os dados de IDs duplicados\n",
    "\n",
    "df.loc[df['ID'].isin(dupe_ids[0:3]),:].head(10)"
   ]
  },
  {
   "cell_type": "code",
   "execution_count": 66,
   "id": "b453baec",
   "metadata": {},
   "outputs": [],
   "source": [
    "# estamos vendo que cada ID duplicado parece ter uma linha de dados válidos e outra somente com zeros\n",
    "\n",
    "# o mais fácil a se fazer é excluir as linhas que somente contém zeros\n",
    "\n",
    "# primeiro vamos encontrar as linhas que só tem zeros (exceto na primeira coluna que contém os IDs)\n",
    "\n",
    "# podemos encontrar as entradas do DataFrame que são iguais a zero\n",
    "\n",
    "# criando uma matriz booleana com o mesmo tamanho do DataFrame, usando a condição \"é igual a zero\"\n",
    "\n"
   ]
  },
  {
   "cell_type": "code",
   "execution_count": 67,
   "id": "32655de0",
   "metadata": {},
   "outputs": [],
   "source": [
    "# criando uma matriz booleana com o mesmo tamanho do DataFrame\n",
    "\n",
    "df_zero_mask = df == 0"
   ]
  },
  {
   "cell_type": "code",
   "execution_count": 69,
   "id": "6f10a528",
   "metadata": {},
   "outputs": [],
   "source": [
    "# nas próximas etapas utilizaremos o df_zero_mask, que é outro DataFrame, contendo valores booleanos\n"
   ]
  },
  {
   "cell_type": "markdown",
   "id": "b4d8bebd",
   "metadata": {},
   "source": [
    "O objetivo é criarmos uma série booleana, **feature_zero_mask**, que identifique cada linha em que todos os elementos \n",
    "a partir da segunda coluna (as características e a resposta, mas não os IDs), sejam 0. "
   ]
  },
  {
   "cell_type": "code",
   "execution_count": 70,
   "id": "0d4c21f0",
   "metadata": {},
   "outputs": [],
   "source": [
    "# para isso, primeiro temos de indexar df_zero_mask usando o método de indexação de inteiros (.iloc)\n",
    "\n",
    "# nesse método, passaremos (:) para examinar todas as linhas\n",
    "\n",
    "# (1:) para examinar todas as colunas a partir da segunda (índice 1)\n",
    "\n",
    "# para concluir, aplicaremos o método all() ao longo do eixo da coluna (axis=1)\n",
    "\n",
    "# e ele retornará True somente se todas as colunas dessa linha forem iguais a True. "
   ]
  },
  {
   "cell_type": "code",
   "execution_count": 71,
   "id": "63f81d19",
   "metadata": {},
   "outputs": [],
   "source": [
    "# criando a série booleana feature_zero_mask\n",
    "\n",
    "feature_zero_mask = df_zero_mask.iloc[:,1:].all(axis=1)"
   ]
  },
  {
   "cell_type": "code",
   "execution_count": 72,
   "id": "e000cbb6",
   "metadata": {},
   "outputs": [
    {
     "data": {
      "text/plain": [
       "315"
      ]
     },
     "execution_count": 72,
     "metadata": {},
     "output_type": "execute_result"
    }
   ],
   "source": [
    "# calculando a soma da série booleana\n",
    "\n",
    "sum(feature_zero_mask)"
   ]
  },
  {
   "cell_type": "code",
   "execution_count": 74,
   "id": "de432e79",
   "metadata": {},
   "outputs": [],
   "source": [
    "# esse é o número de linhas somente com zeros, exceto pelo ID\n",
    "\n",
    "# a saída anterior nos diz que 315 linhas têm zeros para cada coluna, exceto a primeira\n",
    "\n",
    "# esse número é maior do que o número de IDs duplicados (313), logo;\n",
    "\n",
    "# se excluirmos todas as \"linhas de zeros\", podemos nos livrar do problema dos Ids duplicados"
   ]
  },
  {
   "cell_type": "code",
   "execution_count": 75,
   "id": "4ff96511",
   "metadata": {},
   "outputs": [],
   "source": [
    "# limpando o DataFrame\n",
    "\n",
    "df_clean_1 = df.loc[~feature_zero_mask,:].copy()"
   ]
  },
  {
   "cell_type": "code",
   "execution_count": 76,
   "id": "c0255bdc",
   "metadata": {},
   "outputs": [],
   "source": [
    "# oberve que usamos o método.copy() após a operação de indexação .loc \n",
    "\n",
    "# para criar uma cópia dessa saída, em vez de visualizarmos o DataFrame original\n",
    "\n",
    "# dentro do método .loc, usamos o operador lógico not ~ \n",
    "\n",
    "# para selecionar todas as linhas que não têm zeros\n",
    "\n",
    "# para todas as características e a resposta, e:\n",
    "\n",
    "# para selecionar todas as colunas\n"
   ]
  },
  {
   "cell_type": "markdown",
   "id": "e61ce183",
   "metadata": {},
   "source": [
    "Agora queremos saber se o **número de linhas restantes** é igual ao número de **IDs exclusivos**"
   ]
  },
  {
   "cell_type": "code",
   "execution_count": 77,
   "id": "2f7486d5",
   "metadata": {},
   "outputs": [
    {
     "data": {
      "text/plain": [
       "(29685, 25)"
      ]
     },
     "execution_count": 77,
     "metadata": {},
     "output_type": "execute_result"
    }
   ],
   "source": [
    "# verificando o número de linhas e colunas do DataFrame limpo com todos os dados\n",
    "\n",
    "df_clean_1.shape"
   ]
  },
  {
   "cell_type": "code",
   "execution_count": 78,
   "id": "67505264",
   "metadata": {},
   "outputs": [
    {
     "data": {
      "text/plain": [
       "29685"
      ]
     },
     "execution_count": 78,
     "metadata": {},
     "output_type": "execute_result"
    }
   ],
   "source": [
    "# verificando o número de IDs exclusivos do DataFrame limpo\n",
    "\n",
    "df_clean_1['ID'].nunique()"
   ]
  },
  {
   "cell_type": "code",
   "execution_count": 79,
   "id": "b4b94012",
   "metadata": {},
   "outputs": [],
   "source": [
    "# podemos ver que eliminimos com sucesso os IDs duplicados\n",
    "\n",
    "# já que o número de IDs exclusivos é igual ao número de linhas"
   ]
  },
  {
   "cell_type": "code",
   "execution_count": 81,
   "id": "95c400da",
   "metadata": {},
   "outputs": [],
   "source": [
    "# ---- Essa foi uma introdução a algumas técnicas do pandas para indexação e caracterização de dados ---- \n",
    "#      (indexação lógica e pandas)\n",
    "\n",
    "# ---- Esse foi um probema básico de qualidade de dados -> quais amostras estavam presentes, com base nos metadados\n",
    "\n",
    "# ---- Extraídos os IDs duplicados, estamos prontos para examinar os dados propriamente ditos ----\n",
    "\n",
    "# ---- As características e a resposta ----"
   ]
  },
  {
   "cell_type": "markdown",
   "id": "860135c8",
   "metadata": {},
   "source": [
    "Examinar os valores das **características e da resposta**\n",
    "\n",
    "-> os dados que usaremos para **desenvolver nosso modelo preditivo**"
   ]
  },
  {
   "cell_type": "code",
   "execution_count": null,
   "id": "f62fb840",
   "metadata": {},
   "outputs": [],
   "source": []
  }
 ],
 "metadata": {
  "kernelspec": {
   "display_name": "Python 3 (ipykernel)",
   "language": "python",
   "name": "python3"
  },
  "language_info": {
   "codemirror_mode": {
    "name": "ipython",
    "version": 3
   },
   "file_extension": ".py",
   "mimetype": "text/x-python",
   "name": "python",
   "nbconvert_exporter": "python",
   "pygments_lexer": "ipython3",
   "version": "3.9.7"
  }
 },
 "nbformat": 4,
 "nbformat_minor": 5
}
